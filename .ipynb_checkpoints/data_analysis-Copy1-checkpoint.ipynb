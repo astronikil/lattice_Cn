{
 "cells": [
  {
   "cell_type": "code",
   "execution_count": 14,
   "metadata": {},
   "outputs": [],
   "source": [
    "import numpy as np\n",
    "import matplotlib.pyplot as plt"
   ]
  },
  {
   "cell_type": "code",
   "execution_count": 15,
   "metadata": {},
   "outputs": [],
   "source": [
    "# include actual code\n",
    "from functions_predetermined import functions_predetermined\n",
    "from pdfansatz import pdf\n",
    "from wilson_coeff import wilson_coeff\n",
    "from ope_basic import ope_basic\n",
    "from latobj import latobj\n",
    "from gen_itd import gen_itd\n",
    "from data_itd import data_itd\n",
    "from chisquare import *\n",
    "from itd_fit import itd_fit"
   ]
  },
  {
   "cell_type": "code",
   "execution_count": 16,
   "metadata": {},
   "outputs": [
    {
     "name": "stdout",
     "output_type": "stream",
     "text": [
      "foo 36\n",
      "foo 36\n"
     ]
    },
    {
     "data": {
      "image/png": "[encoded data removed]",
      "text/plain": [
       "<Figure size 432x288 with 1 Axes>"
      ]
     },
     "metadata": {
      "needs_background": "light"
     },
     "output_type": "display_data"
    }
   ],
   "source": [
    "#################################################################################\n",
    "#     Initializations for analysis using ETMC proton data  \n",
    "#################################################################################\n",
    "\n",
    "#create ETMC lattice object\n",
    "#lobj_proton = latobj(\n",
    "#    Lz = 48,            # lattice extent\n",
    "#    a_latt = 0.0938,      # lattice spacing\n",
    "#    zmin = 1,           # smallest z for ITD\n",
    "#    zmax = 12,          # largesr z for ITD\n",
    "#    pmin = 1,           # smallest momentum for ITD\n",
    "#    pmax = 5)           # largest momentum for ITD\n",
    "\n",
    "lobj_proton = latobj(\n",
    "    Lz = 32,            # lattice extent\n",
    "    a_latt = 0.127,      # lattice spacing\n",
    "    zmin = 2,           # smallest z for ITD\n",
    "    zmax = 7,          # largesr z for ITD\n",
    "    pmin = 1,           # smallest momentum for ITD\n",
    "    pmax = 6)           # largest momentum for ITD\n",
    "\n",
    "#a               = 0.234421         +/- 0.02893      (12.34%)\n",
    "#b               = -0.661303        +/- 0.01789      (2.705%)\n",
    "#c               = 3.16805          +/- 0.01077      (0.3399%)\n",
    "#d               = 5.35607          +/- 0.5746       (10.73%)\n",
    "#e               = 7.94201          +/- 1.034        (13.02%)\n",
    "\n",
    "\n",
    "#create proton PDF object\n",
    "pdf_proton = pdf(alpha = -0.661303, \n",
    "                 beta = 3.16805,\n",
    "                 s = 5.35607,\n",
    "                 t = 7.94201,\n",
    "                 mu = 3.2,\n",
    "                 nmom = 30,\n",
    "                 hadname = 'proton')\n",
    "\n",
    "#create proton ITD object\n",
    "itd_proton = data_itd(lobj_proton, \n",
    "                   pdf_proton, \n",
    "                   '/Users/nkarthik/PROJECTS/JLAB/Ideas/WilCoeff/DATA/JLAB/proton.dat')\n",
    "\n",
    "def plot_itd(itd):\n",
    "    av = np.mean(itd.data, axis=0); er = np.std(itd.data, axis=0)\n",
    "    plt.errorbar(itd_proton.latobj.nu, av, er, ls='', capsize=10, marker='o', label=itd.hadname)\n",
    "    \n",
    "plot_itd(itd_proton)\n",
    "plt.xlabel('nu'); plt.ylabel('M(z,nu)'); plt.legend(); plt.show()\n",
    "plt.close()"
   ]
  },
  {
   "cell_type": "code",
   "execution_count": 35,
   "metadata": {},
   "outputs": [
    {
     "name": "stdout",
     "output_type": "stream",
     "text": [
      "foo 75\n",
      "foo 75\n"
     ]
    },
    {
     "data": {
      "image/png": "[encoded data removed]",
      "text/plain": [
       "<Figure size 432x288 with 1 Axes>"
      ]
     },
     "metadata": {
      "needs_background": "light"
     },
     "output_type": "display_data"
    }
   ],
   "source": [
    "#################################################################################\n",
    "#     Initializations for analysis using BNL pion data  \n",
    "#################################################################################\n",
    "\n",
    "#create lattice object\n",
    "lobj_pion = latobj(\n",
    "    Lz = 48,            # lattice extent\n",
    "    a_latt = 0.06,      # lattice spacing\n",
    "    zmin = 1,           # smallest z for ITD\n",
    "    zmax = 15,          # largesr z for ITD\n",
    "    pmin = 1,           # smallest momentum for ITD\n",
    "    pmax = 5)           # largest momentum for ITD\n",
    "\n",
    "#create pion PDF object\n",
    "pdf_pion_jam = pdf(alpha = -0.45,    #small-x alpha\n",
    "               beta = 1.0,       #large-x beta\n",
    "               mu = 3.2,         #factorization scale\n",
    "               nmom = 30,        #number of moments used in twist-2 OPE to generate ITD data\n",
    "               hadname = 'pion'  # hadron name\n",
    "              )\n",
    "\n",
    "pdf_pion_asv = pdf(alpha = -0.443,    #small-x alpha\n",
    "               beta = 2.484,       #large-x beta\n",
    "               s = -1.842,\n",
    "               t = 4.959,\n",
    "               mu = 3.2,         #factorization scale\n",
    "               nmom = 30,        #number of moments used in twist-2 OPE to generate ITD data\n",
    "               hadname = 'pion'  # hadron name\n",
    "              )\n",
    "\n",
    "pdf_pion = pdf_pion_jam\n",
    "\n",
    "\n",
    "#create proton ITD object\n",
    "itd_pion = data_itd(lobj_pion, \n",
    "                   pdf_pion, \n",
    "                   '/Users/nkarthik/PROJECTS/JLAB/Ideas/WilCoeff/DATA/BNL/bnl.dat'\n",
    "                  )\n",
    "\n",
    "def plot_itd(itd):\n",
    "    av = np.mean(itd.data, axis=0); er = np.std(itd.data, axis=0)\n",
    "    plt.errorbar(itd_pion.latobj.nu, av, er, ls='', capsize=10, marker='o', label=itd.hadname)\n",
    "    \n",
    "plot_itd(itd_pion)\n",
    "plt.xlabel('nu'); plt.ylabel('M(z,nu)'); plt.legend(); plt.show()\n",
    "plt.close()"
   ]
  },
  {
   "cell_type": "code",
   "execution_count": 36,
   "metadata": {},
   "outputs": [
    {
     "name": "stdout",
     "output_type": "stream",
     "text": [
      "foo 18\n",
      "foo 18\n"
     ]
    },
    {
     "data": {
      "image/png": "[encoded data removed]",
      "text/plain": [
       "<Figure size 432x288 with 1 Axes>"
      ]
     },
     "metadata": {
      "needs_background": "light"
     },
     "output_type": "display_data"
    }
   ],
   "source": [
    "#################################################################################\n",
    "#     Initializations for analysis using JLAB pion data  \n",
    "#################################################################################\n",
    "\n",
    "lobj_pion2 = latobj(\n",
    "    Lz = 32,            # lattice extent\n",
    "    a_latt = 0.127,      # lattice spacing\n",
    "    zmin = 2,           # smallest z for ITD\n",
    "    zmax = 7,          # largesr z for ITD\n",
    "    pmin = 1,           # smallest momentum for ITD\n",
    "    pmax = 3)           # largest momentum for ITD\n",
    "\n",
    "#create proton ITD object\n",
    "itd_pion2 = data_itd(lobj_pion2, \n",
    "                   pdf_pion, \n",
    "                   '/Users/nkarthik/PROJECTS/JLAB/Ideas/WilCoeff/DATA/JLAB/pion.dat')\n",
    "\n",
    "def plot_itd(itd):\n",
    "    av = np.mean(itd.data, axis=0); er = np.std(itd.data, axis=0)\n",
    "    plt.errorbar(itd_pion2.latobj.nu, av, er, ls='', capsize=10, marker='o', label=itd.hadname)\n",
    "    \n",
    "plot_itd(itd_pion2)\n",
    "plt.xlabel('nu'); plt.ylabel('M(z,nu)'); plt.legend(); plt.show()\n",
    "plt.close()"
   ]
  },
  {
   "cell_type": "code",
   "execution_count": 37,
   "metadata": {},
   "outputs": [
    {
     "name": "stdout",
     "output_type": "stream",
     "text": [
      "initial fit converged.\n",
      "Done fitting wilson coefficients to  pion\n"
     ]
    }
   ],
   "source": [
    "#################################################################################\n",
    "#     Fit Wilson coefficients to lattice (mock) data    \n",
    "#     important things to change here:\n",
    "#     number_of_cn is the number of c_n's that are being fit\n",
    "#     change itd_obj_inp to itd_pion of you want to fit c_n to pion ITD, or \n",
    "#           set it to itd_proton if you want to fit c_n to proton ITD\n",
    "#################################################################################\n",
    "\n",
    "\n",
    "number_of_cn = 5   # number of wilson coeffs to be fit\n",
    "\n",
    "itd_obj_inp = itd_pion\n",
    "\n",
    "obj_standard =    itd_fit(\n",
    "                      itd_obj_inp, \n",
    "                      fit_nmom = number_of_cn,\n",
    "                      fit_type = 'fit_coeffs'\n",
    "                     )\n",
    "obj_standard.fit(fitrange=(itd_obj_inp.latobj.zmin, itd_obj_inp.latobj.zmax), verbose = True);\n",
    "\n",
    "print('Done fitting wilson coefficients to ', obj_standard.itdobj.hadname)"
   ]
  },
  {
   "cell_type": "code",
   "execution_count": 38,
   "metadata": {},
   "outputs": [
    {
     "name": "stdout",
     "output_type": "stream",
     "text": [
      "[ 1  2  3  4  5  6  7  8  9 10 11 12 13 14 15]\n"
     ]
    },
    {
     "data": {
      "image/png": "[encoded data removed]",
      "text/plain": [
       "<Figure size 432x288 with 1 Axes>"
      ]
     },
     "metadata": {
      "needs_background": "light"
     },
     "output_type": "display_data"
    },
    {
     "name": "stdout",
     "output_type": "stream",
     "text": [
      "[ 1  2  3  4  5  6  7  8  9 10 11 12 13 14 15]\n"
     ]
    },
    {
     "data": {
      "image/png": "[encoded data removed]",
      "text/plain": [
       "<Figure size 432x288 with 1 Axes>"
      ]
     },
     "metadata": {
      "needs_background": "light"
     },
     "output_type": "display_data"
    },
    {
     "name": "stdout",
     "output_type": "stream",
     "text": [
      "[ 1  2  3  4  5  6  7  8  9 10 11 12 13 14 15]\n"
     ]
    },
    {
     "data": {
      "image/png": "[encoded data removed]",
      "text/plain": [
       "<Figure size 432x288 with 1 Axes>"
      ]
     },
     "metadata": {
      "needs_background": "light"
     },
     "output_type": "display_data"
    }
   ],
   "source": [
    "#################################################################################\n",
    "#     Plot fitted Wilson coeffs c_2 and c_4 as a function of z\n",
    "#################################################################################\n",
    "\n",
    "from scipy.interpolate import interp1d\n",
    "\n",
    "def plot_cn(fitobj, n):\n",
    "    av, er  = fitobj.minres['fit']\n",
    "    zlst = fitobj.minres['zrange']\n",
    "    print(zlst)\n",
    "    av0 = np.reshape(av, (len(zlst), number_of_cn)).T[n-1]\n",
    "    er0 = np.reshape(er, (len(zlst), number_of_cn)).T[n-1]    \n",
    "    wlst = fitobj.itdobj.cn_nlo(zlst, 2*n)\n",
    "    plt.errorbar(zlst, av0, er0,  ls='', marker='s', capsize=10, label=fitobj.itdobj.hadname)\n",
    "    plt.plot(zlst, wlst, label='1-loop')\n",
    "    plt.xlabel('z'); plt.ylabel('C_'+str(2*n))    \n",
    "    np.savetxt('/Users/nkarthik/C'+str(2*n)+'_asv.dat',np.array([zlst, av0, er0, wlst]).T)\n",
    "    \n",
    "def cn_from_fits(z, n, j):\n",
    "    #\n",
    "    # converts the array of fitted values of wilson coeffs into a z, n dependent function\n",
    "    # j is the index that specifies which \"jack-knife\" value to take the c_n from\n",
    "    #\n",
    "    zlst = obj_standard.minres['zrange']\n",
    "    cfs = np.reshape(obj_standard.resjck[j], (len(zlst), number_of_cn))\n",
    "       \n",
    "    znew = np.int_(zlst) - lobj_pion.zmin\n",
    "        \n",
    "    if(n % 2 == 0 ):\n",
    "        if(n == 0):\n",
    "            return 1.0\n",
    "        else:\n",
    "            fun = interp1d(zlst, cfs[znew, n//2-1] )\n",
    "            return fun(z)\n",
    "    else:\n",
    "        return 0.0\n",
    "    \n",
    "#zband = np.linspace(1, 12, 100)\n",
    "#cband = np.array([cn_from_fits(zband, 2, j) for j in range(100)])\n",
    "#cav = np.mean(cband, axis=0)\n",
    "#csd = np.std(cband, axis=0)\n",
    "#plt.errorbar(zband, cav, csd)\n",
    "    \n",
    "plot_cn(obj_standard, 1)\n",
    "plt.ylim(0.5, 2.6)\n",
    "plt.legend(); plt.show(); plt.close()\n",
    "\n",
    "plot_cn(obj_standard, 2)\n",
    "plt.ylim(-0.5, 4.0)\n",
    "plt.legend(); plt.show(); plt.close()\n",
    "\n",
    "\n",
    "plot_cn(obj_standard, 3)\n",
    "plt.ylim(-0.5, 4.0)\n",
    "plt.legend(); plt.show(); plt.close()"
   ]
  },
  {
   "cell_type": "code",
   "execution_count": 39,
   "metadata": {},
   "outputs": [
    {
     "name": "stdout",
     "output_type": "stream",
     "text": [
      "initialized ITD that has to be analyzed using NLO and new kernel\n",
      "fits using moments as variables is now done\n"
     ]
    }
   ],
   "source": [
    "######################################################################################\n",
    "#     ITD moments analysis of the itd object determined by the variable \"testitd\"\n",
    "#     The analysis is done using fitted c_n, and also using NLO c_n\n",
    "#     set testitd to itd_proton if you want to analyze proton, else to itd_pion\n",
    "######################################################################################\n",
    "from scipy.interpolate import interp1d\n",
    "\n",
    "testitd = itd_pion2        # change this to the hadron you want\n",
    "    \n",
    "\n",
    "def cn_from_fits(z, n, j):\n",
    "    #\n",
    "    # converts the array of fitted values of wilson coeffs into a z, n dependent function\n",
    "    # j is the index that specifies which \"jack-knife\" value to take the c_n from\n",
    "    #\n",
    "    zlst = obj_standard.minres['zrange']\n",
    "    cfs = np.reshape(obj_standard.resjck[j], (len(zlst), number_of_cn))\n",
    "       \n",
    "    znew = np.int_(zlst) - lobj_pion.zmin\n",
    "        \n",
    "    if(n % 2 == 0 ):\n",
    "        if(n == 0):\n",
    "            return 1.0\n",
    "        else:\n",
    "            fun = interp1d(zlst, cfs[znew, n//2-1] )\n",
    "            return fun(z*lobj_proton.a_latt/lobj_pion.a_latt)\n",
    "    else:\n",
    "        return 0.0\n",
    "\n",
    "# analysis object using fitted values of c_n obtained in the previous cells\n",
    "testobj = itd_fit(testitd, \n",
    "                fit_nmom = 2,     # number of moments used in the OPE for the fit\n",
    "                fit_type =  'fit_moments',   # analysis type. Fit the moments in this case\n",
    "                wilson_input = cn_from_fits, # the input wilson coefficient function\n",
    "                kernel_type = 'sample'       # wilson coeff function fluctuates with config or not. 'sample'=fluctuates\n",
    "               )\n",
    "# analysis object using NLO c_n\n",
    "testobj_nlo = itd_fit(testitd, \n",
    "                fit_nmom = 2, \n",
    "                fit_type =  'fit_moments',\n",
    "                kernel_type = 'nlo'         # NLO wilson coeff\n",
    "               )\n",
    "\n",
    "print('initialized ITD that has to be analyzed using NLO and new kernel')\n",
    "\n",
    "zmx = 7\n",
    "zmn = 2\n",
    "# do some fits; not much to see below than some ugly code\n",
    "mdat2 = np.zeros((zmx-zmn, 3))\n",
    "mdat4 = np.zeros((zmx-zmn, 3))\n",
    "\n",
    "mdat2_nlo = np.zeros((zmx-zmn, 3))\n",
    "mdat4_nlo = np.zeros((zmx-zmn, 3))\n",
    "\n",
    "j=0\n",
    "for z in range(zmn, zmx):\n",
    "    testobj.fit(fitrange = (2, z));\n",
    "    testobj_nlo.fit(fitrange = (2, z));\n",
    "    mdat2[j] = [ z, testobj.minres['fit'][0, 0], testobj.minres['fit'][1, 0] ]\n",
    "    mdat4[j] = [ z, testobj.minres['fit'][0, 1], testobj.minres['fit'][1, 1] ]\n",
    "    \n",
    "    mdat2_nlo[j] = [ z, testobj_nlo.minres['fit'][0, 0], testobj_nlo.minres['fit'][1, 0] ]\n",
    "    mdat4_nlo[j] = [ z, testobj_nlo.minres['fit'][0, 1], testobj_nlo.minres['fit'][1, 1] ]\n",
    "    j= j+1\n",
    "    \n",
    "print('fits using moments as variables is now done')"
   ]
  },
  {
   "cell_type": "code",
   "execution_count": 40,
   "metadata": {
    "scrolled": true
   },
   "outputs": [
    {
     "name": "stdout",
     "output_type": "stream",
     "text": [
      "[0.09417288 0.09417288 0.09417288 0.09417288 0.09417288 0.09417288\n",
      " 0.09417288 0.09417288 0.09417288 0.09417288 0.09417288 0.09417288\n",
      " 0.09417288 0.09417288 0.09417288]\n"
     ]
    },
    {
     "data": {
      "image/png": "[encoded data removed]",
      "text/plain": [
       "<Figure size 432x288 with 1 Axes>"
      ]
     },
     "metadata": {
      "needs_background": "light"
     },
     "output_type": "display_data"
    },
    {
     "name": "stdout",
     "output_type": "stream",
     "text": [
      "[0.03375903 0.03375903 0.03375903 0.03375903 0.03375903 0.03375903\n",
      " 0.03375903 0.03375903 0.03375903 0.03375903 0.03375903 0.03375903\n",
      " 0.03375903 0.03375903 0.03375903]\n"
     ]
    },
    {
     "data": {
      "image/png": "[encoded data removed]",
      "text/plain": [
       "<Figure size 432x288 with 1 Axes>"
      ]
     },
     "metadata": {
      "needs_background": "light"
     },
     "output_type": "display_data"
    }
   ],
   "source": [
    "#################################################################################\n",
    "#     Plot fitted moments <x^2> and <x^4> as a function of z.\n",
    "#.    Results using fitted values of c_n (red) and NLO c_n (blue) are shown\n",
    "#.    The actual value of moment for the hadron is shown by the black line\n",
    "#################################################################################\n",
    "\n",
    "plt.close()\n",
    "plt.errorbar(*mdat2.T, ls='', marker = 'D', label = 'fit_cn', capsize=10, color = 'r')\n",
    "plt.errorbar(*mdat2_nlo.T, ls='', marker = 'o', label = 'nlo_cn', capsize=10, color = 'b')\n",
    "np.savetxt('/Users/nkarthik/pix2_fitjamcn_jlab.dat', mdat2)\n",
    "np.savetxt('/Users/nkarthik/pix2_nlocn_jlab.dat', mdat2_nlo)\n",
    "\n",
    "zaxis = obj_standard.minres['zrange']\n",
    "ref = testitd.moments[2]*np.array([1.0 for z in zaxis])\n",
    "print(ref)\n",
    "plt.plot(zaxis, ref, label=testitd.hadname+' x2', color = 'black')\n",
    "\n",
    "plt.xlabel('z'); plt.ylabel('<x2>')\n",
    "plt.xlim(0,10)\n",
    "plt.ylim(0.05*ref[0], 5*ref[0])\n",
    "plt.legend(); plt.show(); plt.close()\n",
    "\n",
    "plt.errorbar(*mdat4.T, ls='', marker = 'D', label = 'fit_cn', capsize=10, color = 'r')\n",
    "plt.errorbar(*mdat4_nlo.T, ls='', marker = 'o', label = 'nlo_cn', capsize=10, color = 'b')\n",
    "\n",
    "np.savetxt('/Users/nkarthik/pix4_fitjamcn_jlab.dat', mdat4)\n",
    "np.savetxt('/Users/nkarthik/pix4_nlocn_jlab.dat', mdat4_nlo)\n",
    "\n",
    "plt.xlabel('z'); plt.ylabel('<x4>')\n",
    "ref = testitd.moments[4]*np.array([1.0 for z in zaxis])\n",
    "print(ref)\n",
    "plt.plot(zaxis, ref,  label=testitd.hadname+' x4', color = 'black')\n",
    "plt.xlim(0,10)\n",
    "plt.ylim(-5*ref[0], 5*ref[0])\n",
    "plt.legend(); plt.show(); plt.close()"
   ]
  },
  {
   "cell_type": "code",
   "execution_count": 24,
   "metadata": {},
   "outputs": [
    {
     "name": "stdout",
     "output_type": "stream",
     "text": [
      "jam fitter initialized to fit proton\n",
      "initial fit converged.\n",
      "initial fit converged.\n",
      "jam fits done\n"
     ]
    }
   ],
   "source": [
    "######################################################################################\n",
    "#     PDF analysis of the itd object determined by the variable \"testitd\". The value of \n",
    "#      testitd is set in one of the previous cells. Change that and come here.\n",
    "#\n",
    "#     The ansatz used is f(x) = x^a (1-x)^b, and a,b are fitted\n",
    "######################################################################################\n",
    "\n",
    "# fit object which uses the fitted values of c_n's\n",
    "jamobj = itd_fit(testitd, \n",
    "                fit_nmom = 4, \n",
    "                fit_type =  'fit_twoparams',\n",
    "                wilson_input = cn_from_fits,\n",
    "                kernel_type = 'sample'\n",
    "               )\n",
    "\n",
    "# NLO fit object\n",
    "jamobj_nlo = itd_fit(testitd, \n",
    "                fit_nmom = 20, \n",
    "                fit_type =  'fit_twoparams',\n",
    "                kernel_type = 'nlo'\n",
    "               )\n",
    "\n",
    "print('jam fitter initialized to fit ' + testitd.hadname)\n",
    "\n",
    "# do some fits. Change \"fitrange\" to choose which z range to do the fits over. If error message, try \n",
    "# changing fitrange value. Not quite stable as of now, for reasons I am don't understand, but mostly works!\n",
    "\n",
    "pars = jamobj.fit( fitrange=(2,7), verbose = True )\n",
    "pars_nlo = jamobj_nlo.fit( fitrange=(2, 7), verbose = True )\n",
    "\n",
    "print('jam fits done')"
   ]
  },
  {
   "cell_type": "code",
   "execution_count": 25,
   "metadata": {
    "scrolled": false
   },
   "outputs": [
    {
     "data": {
      "image/png": "[encoded data removed]",
      "text/plain": [
       "<Figure size 432x288 with 1 Axes>"
      ]
     },
     "metadata": {
      "needs_background": "light"
     },
     "output_type": "display_data"
    }
   ],
   "source": [
    "#################################################################################\n",
    "#     Plot PDF's\n",
    "#################################################################################\n",
    "\n",
    "from scipy.special import gamma\n",
    "\n",
    "def fv(x, a, b):\n",
    "    norm = (gamma(1 + a)*gamma(1 + b))/gamma(2 + a + b)\n",
    "    return x**a*(1.0-x)**b / norm\n",
    "\n",
    "xlst = np.linspace(0.001, 1, 100)\n",
    "\n",
    "fxinp = testitd.pdfobj.f(xlst)\n",
    "\n",
    "plt.close()\n",
    "\n",
    "fx = np.array([ fv(xlst, a, b) for a, b in jamobj.resjck ])\n",
    "fx_nlo = np.array([ fv(xlst, a, b) for a, b in jamobj_nlo.resjck ])\n",
    "\n",
    "av, er = np.mean(fx, axis=0), np.std(fx, axis=0)\n",
    "av_nlo, er_nlo = np.mean(fx_nlo, axis=0), np.std(fx_nlo, axis=0)\n",
    "\n",
    "plt.errorbar(xlst, av, er, label = 'fit_cn from '+obj_standard.hadname)\n",
    "plt.errorbar(xlst, av_nlo, er_nlo, label = 'nlo_cn')\n",
    "plt.plot(xlst,fxinp, label = 'f(x) '+testitd.hadname, color = 'black')\n",
    "\n",
    "plt.xlabel('x'); plt.ylabel('x f(x)')\n",
    "plt.xlim(0,1)\n",
    "plt.ylim(0,3.8)\n",
    "\n",
    "plt.legend()\n",
    "plt.show()\n",
    "\n",
    "np.savetxt('/Users/nkarthik/pdf_jlabproton_nlo.dat', np.array([xlst, av_nlo, er_nlo]).T)\n",
    "np.savetxt('/Users/nkarthik/pdf_jlabproton_fitASV.dat', np.array([xlst, av, er]).T)\n",
    "np.savetxt('/Users/nkarthik/pdf_nnpdf.dat', np.array([xlst, fxinp]).T)"
   ]
  },
  {
   "cell_type": "code",
   "execution_count": null,
   "metadata": {},
   "outputs": [],
   "source": [
    "mdat2.T"
   ]
  },
  {
   "cell_type": "code",
   "execution_count": null,
   "metadata": {},
   "outputs": [],
   "source": []
  }
 ],
 "metadata": {
  "kernelspec": {
   "display_name": "Python 3",
   "language": "python",
   "name": "python3"
  },
  "language_info": {
   "codemirror_mode": {
    "name": "ipython",
    "version": 3
   },
   "file_extension": ".py",
   "mimetype": "text/x-python",
   "name": "python",
   "nbconvert_exporter": "python",
   "pygments_lexer": "ipython3",
   "version": "3.8.3"
  }
 },
 "nbformat": 4,
 "nbformat_minor": 4
}
