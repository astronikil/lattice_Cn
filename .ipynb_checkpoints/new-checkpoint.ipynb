{
 "cells": [
  {
   "cell_type": "code",
   "execution_count": 349,
   "metadata": {},
   "outputs": [],
   "source": [
    "import numpy as np\n",
    "import matplotlib.pyplot as plt\n",
    "#from scipy.special import factorial\n",
    "#from scipy.special import gamma\n",
    "#from scipy import optimize\n",
    "#from scipy.interpolate import interp1d"
   ]
  },
  {
   "cell_type": "code",
   "execution_count": 350,
   "metadata": {},
   "outputs": [],
   "source": [
    "from functions_predetermined import functions_predetermined\n",
    "from pdfansatz import pdf\n",
    "from wilson_coeff import wilson_coeff\n",
    "from ope_basic import ope_basic\n",
    "from latobj import latobj\n",
    "from gen_itd import gen_itd\n",
    "from chisquare import *\n",
    "from itd_fit import itd_fit"
   ]
  },
  {
   "cell_type": "code",
   "execution_count": 351,
   "metadata": {},
   "outputs": [],
   "source": [
    "lobj = latobj(\n",
    "    Lz = 48,\n",
    "    a_latt = 0.06,\n",
    "    zmin = 1,\n",
    "    zmax = 10,\n",
    "    pmin = 1,\n",
    "    pmax = 5)"
   ]
  },
  {
   "cell_type": "code",
   "execution_count": 369,
   "metadata": {},
   "outputs": [
    {
     "data": {
      "image/png": "[encoded data removed]",
      "text/plain": [
       "<Figure size 432x288 with 1 Axes>"
      ]
     },
     "metadata": {
      "needs_background": "light"
     },
     "output_type": "display_data"
    }
   ],
   "source": [
    "pdf_pion = pdf(alpha = -0.45, \n",
    "               beta = 1.0,\n",
    "               mu = 3.2,\n",
    "               nmom = 30)\n",
    "\n",
    "pdf_proton = pdf(alpha = -0.25, \n",
    "                 beta = 3.0,\n",
    "                 mu = 3.2,\n",
    "                 nmom = 30)\n",
    "\n",
    "mom_pion_list = pdf_pion.momlist()\n",
    "mom_proton_list = pdf_proton.momlist()\n",
    "\n",
    "itd_pion = gen_itd(lobj, \n",
    "                   mom_pion_list, \n",
    "                   hadname = 'pion',\n",
    "                   mu = pdf_pion.mu,\n",
    "                   correction_coeffs = [-1.0, 3.0, -0.25],\n",
    "                   L_qcd = 0.01,\n",
    "                   c_latt = 0.0,\n",
    "                   error_scale = 0.0008,\n",
    "                   ht_massdep = False,\n",
    "                   pa_massdep = False\n",
    "                  )\n",
    "\n",
    "itd_proton = gen_itd(lobj, \n",
    "                   mom_proton_list, \n",
    "                   hadname = 'proton',\n",
    "                   mu = pdf_proton.mu,\n",
    "                   correction_coeffs = [-1.0, 3.0, -0.25],\n",
    "                   L_qcd = 0.01,\n",
    "                   c_latt = 0.0,\n",
    "                   error_scale = 0.0008,\n",
    "                   ht_massdep = False,\n",
    "                   pa_massdep = False\n",
    "                  )\n",
    "\n",
    "def plot_itd(itd):\n",
    "    av = np.mean(itd.data, axis=0); er = np.std(itd.data, axis=0)\n",
    "    plt.errorbar(lobj.nu, av, er, ls='', capsize=10, marker='o', label=itd.hadname)\n",
    "    \n",
    "plot_itd(itd_pion)\n",
    "plot_itd(itd_proton)\n",
    "plt.xlabel('nu'); plt.ylabel('M(z,nu)'); plt.legend(); plt.show()\n",
    "plt.close()"
   ]
  },
  {
   "cell_type": "code",
   "execution_count": 370,
   "metadata": {},
   "outputs": [
    {
     "name": "stdout",
     "output_type": "stream",
     "text": [
      "initial fit converged.\n",
      "Done fitting wilson coefficients to  pion\n"
     ]
    }
   ],
   "source": [
    "number_of_cn = 4   # number of wilson coeffs to be fit\n",
    "\n",
    "fitobj_pion = itd_fit(itd_pion, \n",
    "                      fit_nmom = number_of_cn,\n",
    "                      fit_type = 'fit_coeffs'\n",
    "                     )\n",
    "fitobj_pion.fit(fitrange=(lobj.zmin, lobj.zmax), verbose = True);\n",
    "\n",
    "#fitobj_proton = itd_fit(itd_proton, fit_nmom = number_of_cn, fit_type = 'fit_coeffs')\n",
    "#fitobj_proton.fit(fitrange=(lobj.zmin, lobj.zmax));\n",
    "\n",
    "obj_standard = fitobj_pion\n",
    "\n",
    "print('Done fitting wilson coefficients to ', obj_standard.itdobj.hadname)"
   ]
  },
  {
   "cell_type": "code",
   "execution_count": 371,
   "metadata": {},
   "outputs": [
    {
     "data": {
      "image/png": "[encoded data removed]",
      "text/plain": [
       "<Figure size 432x288 with 1 Axes>"
      ]
     },
     "metadata": {
      "needs_background": "light"
     },
     "output_type": "display_data"
    },
    {
     "data": {
      "image/png": "[encoded data removed]",
      "text/plain": [
       "<Figure size 432x288 with 1 Axes>"
      ]
     },
     "metadata": {
      "needs_background": "light"
     },
     "output_type": "display_data"
    }
   ],
   "source": [
    "def plot_cn(fitobj, n):\n",
    "    av, er  = fitobj.minres['fit']\n",
    "    zlst = fitobj.minres['zrange']\n",
    "    av0 = np.reshape(av, (len(zlst), number_of_cn)).T[n-1]\n",
    "    er0 = np.reshape(er, (len(zlst), number_of_cn)).T[n-1]\n",
    "    wlst = fitobj.itdobj.cn_nlo(zlst, 2*n)\n",
    "    plt.errorbar(zlst, av0, er0,  ls='', marker='s', capsize=10, label=fitobj.itdobj.hadname)\n",
    "    plt.plot(zlst, wlst, label='1-loop')\n",
    "    plt.xlabel('z'); plt.ylabel('C_'+str(2*n))\n",
    "    \n",
    "plot_cn(fitobj_pion, 1)\n",
    "plt.ylim(0.2, 2.8)\n",
    "plt.legend(); plt.show(); plt.close()\n",
    "\n",
    "plot_cn(fitobj_pion, 2)\n",
    "plt.ylim(-0.5, 10.0)\n",
    "plt.legend(); plt.show(); plt.close()"
   ]
  },
  {
   "cell_type": "code",
   "execution_count": 372,
   "metadata": {},
   "outputs": [],
   "source": [
    "def cn_from_fits(z, n, j):\n",
    "    zlst = obj_standard.minres['zrange']\n",
    "    cfs = np.reshape(obj_standard.resjck[j], (len(zlst), number_of_cn))\n",
    "    if(n % 2 == 0 ):\n",
    "        if(n == 0):\n",
    "            return 1.0\n",
    "        else:\n",
    "            return cfs[np.int_(z) - lobj.zmin, n//2-1]\n",
    "    else:\n",
    "        return 0.0\n",
    "\n",
    "testitd = itd_proton\n",
    "#testitd = itd_pion\n",
    "\n",
    "testobj = itd_fit(testitd, \n",
    "                fit_nmom = number_of_cn, \n",
    "                fit_type =  'fit_moments',\n",
    "                wilson_input = cn_from_fits,\n",
    "                kernel_type = 'sample'\n",
    "               )\n",
    "\n",
    "testobj_nlo = itd_fit(testitd, \n",
    "                fit_nmom = number_of_cn, \n",
    "                fit_type =  'fit_moments',\n",
    "                kernel_type = 'nlo'\n",
    "               )\n",
    "\n",
    "#testobj.fit(fitrange=(lobj.zmin, lobj.zmax))"
   ]
  },
  {
   "cell_type": "code",
   "execution_count": 373,
   "metadata": {},
   "outputs": [
    {
     "name": "stderr",
     "output_type": "stream",
     "text": [
      "/opt/anaconda3/lib/python3.8/site-packages/scipy/optimize/minpack.py:828: OptimizeWarning: Covariance of the parameters could not be estimated\n",
      "  warnings.warn('Covariance of the parameters could not be estimated',\n"
     ]
    }
   ],
   "source": [
    "mdat2 = np.zeros((lobj.zmax-lobj.zmin, 3))\n",
    "mdat4 = np.zeros((lobj.zmax-lobj.zmin, 3))\n",
    "\n",
    "mdat2_nlo = np.zeros((lobj.zmax-lobj.zmin, 3))\n",
    "mdat4_nlo = np.zeros((lobj.zmax-lobj.zmin, 3))\n",
    "\n",
    "j=0\n",
    "for z in range(lobj.zmin, lobj.zmax):\n",
    "    testobj.fit(fitrange = (z, z));\n",
    "    testobj_nlo.fit(fitrange = (z, z));\n",
    "    mdat2[j] = [ z, testobj.minres['fit'][0, 0], testobj.minres['fit'][1, 0] ]\n",
    "    mdat4[j] = [ z, testobj.minres['fit'][0, 1], testobj.minres['fit'][1, 1] ]\n",
    "    \n",
    "    mdat2_nlo[j] = [ z, testobj_nlo.minres['fit'][0, 0], testobj_nlo.minres['fit'][1, 0] ]\n",
    "    mdat4_nlo[j] = [ z, testobj_nlo.minres['fit'][0, 1], testobj_nlo.minres['fit'][1, 1] ]\n",
    "    j= j+1"
   ]
  },
  {
   "cell_type": "code",
   "execution_count": 375,
   "metadata": {},
   "outputs": [
    {
     "data": {
      "image/png": "[encoded data removed]",
      "text/plain": [
       "<Figure size 432x288 with 1 Axes>"
      ]
     },
     "metadata": {
      "needs_background": "light"
     },
     "output_type": "display_data"
    },
    {
     "data": {
      "image/png": "[encoded data removed]",
      "text/plain": [
       "<Figure size 432x288 with 1 Axes>"
      ]
     },
     "metadata": {
      "needs_background": "light"
     },
     "output_type": "display_data"
    }
   ],
   "source": [
    "plt.close()\n",
    "plt.errorbar(*mdat2.T, ls='', marker = 'D', label = 'fit_cn', capsize=10)\n",
    "plt.errorbar(*mdat2_nlo.T, ls='', marker = 'o', label = 'nlo_cn', capsize=10)\n",
    "\n",
    "zaxis = obj_standard.minres['zrange']\n",
    "ref = testitd.moments[2]*np.array([1.0 for z in zaxis])\n",
    "plt.plot(zaxis, ref)\n",
    "plt.ylim(0.5*ref[0], 2.5*ref[0])\n",
    "plt.legend()\n",
    "plt.show()\n",
    "plt.close()\n",
    "plt.errorbar(*mdat4.T, ls='', marker = 'D', label = 'fit_cn', capsize=10)\n",
    "plt.errorbar(*mdat4_nlo.T, ls='', marker = 'o', label = 'nlo_cn', capsize=10)\n",
    "ref = testitd.moments[4]*np.array([1.0 for z in zaxis])\n",
    "plt.plot(zaxis, ref)\n",
    "plt.ylim(-5*ref[0], 5*ref[0])\n",
    "plt.legend()\n",
    "plt.show()"
   ]
  },
  {
   "cell_type": "code",
   "execution_count": 376,
   "metadata": {},
   "outputs": [],
   "source": [
    "testitd = itd_proton\n",
    "#testitd = itd_pion\n",
    "\n",
    "testobj = itd_fit(testitd, \n",
    "                fit_nmom = number_of_cn, \n",
    "                fit_type =  'fit_twoparams',\n",
    "                wilson_input = cn_from_fits,\n",
    "                kernel_type = 'sample'\n",
    "               )\n",
    "\n",
    "testobj_nlo = itd_fit(testitd, \n",
    "                fit_nmom = 3, \n",
    "                fit_type =  'fit_twoparams',\n",
    "                kernel_type = 'nlo'\n",
    "               )"
   ]
  },
  {
   "cell_type": "code",
   "execution_count": 377,
   "metadata": {},
   "outputs": [
    {
     "name": "stdout",
     "output_type": "stream",
     "text": [
      "initial fit converged.\n",
      "initial fit converged.\n"
     ]
    }
   ],
   "source": [
    "pars = testobj.fit( fitrange=(1,10), verbose = True )\n",
    "pars_nlo = testobj_nlo.fit( fitrange=(1,10), verbose = True )"
   ]
  },
  {
   "cell_type": "code",
   "execution_count": 378,
   "metadata": {},
   "outputs": [
    {
     "data": {
      "image/png": "[encoded data removed]",
      "text/plain": [
       "<Figure size 432x288 with 1 Axes>"
      ]
     },
     "metadata": {
      "needs_background": "light"
     },
     "output_type": "display_data"
    }
   ],
   "source": [
    "from scipy.special import gamma\n",
    "\n",
    "def fv(x, a, b):\n",
    "    norm = (gamma(1 + a)*gamma(1 + b))/gamma(2 + a + b)\n",
    "    return x**a*(1.0-x)**b / norm\n",
    "\n",
    "xlst = np.linspace(0.001, 1, 100)\n",
    "\n",
    "fxinp = pdf_proton.f(xlst)\n",
    "\n",
    "plt.close()\n",
    "\n",
    "fx = np.array([ fv(xlst, a, b) for a, b in testobj.resjck ])\n",
    "fx_nlo = np.array([ fv(xlst, a, b) for a, b in testobj_nlo.resjck ])\n",
    "\n",
    "av, er = np.mean(fx, axis=0), np.std(fx, axis=0)\n",
    "av_nlo, er_nlo = np.mean(fx_nlo, axis=0), np.std(fx_nlo, axis=0)\n",
    "\n",
    "plt.errorbar(xlst, av*xlst, er*xlst, label = 'fit_cn')\n",
    "plt.errorbar(xlst, av_nlo*xlst, er_nlo*xlst, label = 'nlo_cn')\n",
    "plt.plot(xlst, xlst*fxinp, label = 'f(x)', color = 'black')\n",
    "\n",
    "plt.legend()\n",
    "plt.show()"
   ]
  },
  {
   "cell_type": "code",
   "execution_count": null,
   "metadata": {},
   "outputs": [],
   "source": []
  }
 ],
 "metadata": {
  "kernelspec": {
   "display_name": "Python 3",
   "language": "python",
   "name": "python3"
  },
  "language_info": {
   "codemirror_mode": {
    "name": "ipython",
    "version": 3
   },
   "file_extension": ".py",
   "mimetype": "text/x-python",
   "name": "python",
   "nbconvert_exporter": "python",
   "pygments_lexer": "ipython3",
   "version": "3.8.3"
  }
 },
 "nbformat": 4,
 "nbformat_minor": 4
}
